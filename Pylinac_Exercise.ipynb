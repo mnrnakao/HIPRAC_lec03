{
 "cells": [
  {
   "cell_type": "markdown",
   "metadata": {
    "chapterId": "ry-G_A7Wxbf",
    "id": "chapter_name"
   },
   "source": [
    "#  リニアックQAモジュールの解説"
   ]
  },
  {
   "cell_type": "markdown",
   "metadata": {
    "id": "table"
   },
   "source": [
    "- **1. 各QAモジュールのデモ**\n",
    "    - **1.1 Starshot module**\n",
    "    - **1.2 VMAT module**\n",
    "    - **1.3 CatPhan module**\n",
    "    - **1.4 Log Analyzer module**\n",
    "    - **1.5 Picket Fence module**\n",
    "    - **1.6 Planar Imaging module**\n",
    "    - **1.7 Flatness/Symmetry module**\n",
    "<br><br>\n",
    "- **2. Winston Lutz**\n",
    "    - **2.1 Winston Lutz moduleのDemo**\n",
    "    - **2.2 画像を読み込み実行**\n",
    "    - **2.3 Winston-Lutzモジュールのメソッドを使う**\n",
    "    - **2.4 自施設のEPID画像を読み込み＆結果を表示する**\n",
    "<br><br>\n",
    "- **3. IGRTのEnd to End試験**\n",
    "    - **3.1 頭部ファントムを用いたWinston Lutz**\n",
    "    - **3.2 ExacTracのEnd to End試験**\n",
    "<br><br>\n",
    "- **【付録】 クラスとメソッド**\n",
    "\n"
   ]
  },
  {
   "cell_type": "markdown",
   "metadata": {},
   "source": [
    "## ●1. 各QAモジュールのデモ"
   ]
  },
  {
   "cell_type": "markdown",
   "metadata": {},
   "source": [
    "### 〇1.1 Starshot module"
   ]
  },
  {
   "cell_type": "code",
   "execution_count": null,
   "metadata": {},
   "outputs": [],
   "source": [
    "from pylinac import Starshot\n",
    "%matplotlib inline\n",
    "Starshot.run_demo()"
   ]
  },
  {
   "cell_type": "markdown",
   "metadata": {},
   "source": [
    "### 〇1.2 VMAT module"
   ]
  },
  {
   "cell_type": "code",
   "execution_count": null,
   "metadata": {
    "scrolled": true
   },
   "outputs": [],
   "source": [
    "from pylinac import DRGS\n",
    "%matplotlib inline\n",
    "DRGS.run_demo()"
   ]
  },
  {
   "cell_type": "markdown",
   "metadata": {},
   "source": [
    "### 〇1.3 CatPhan module"
   ]
  },
  {
   "cell_type": "code",
   "execution_count": null,
   "metadata": {},
   "outputs": [],
   "source": [
    "from pylinac import CatPhan504\n",
    "%matplotlib inline\n",
    "CatPhan504.run_demo() # the demo is a Varian high quality head scan"
   ]
  },
  {
   "cell_type": "markdown",
   "metadata": {},
   "source": [
    "### 〇1.4 Log Analyzer module"
   ]
  },
  {
   "cell_type": "code",
   "execution_count": null,
   "metadata": {},
   "outputs": [],
   "source": [
    "from pylinac import Dynalog\n",
    "%matplotlib inline\n",
    "Dynalog.run_demo()"
   ]
  },
  {
   "cell_type": "markdown",
   "metadata": {},
   "source": [
    "### 〇1.5 Picket Fence module"
   ]
  },
  {
   "cell_type": "code",
   "execution_count": null,
   "metadata": {},
   "outputs": [],
   "source": [
    "from pylinac import PicketFence\n",
    "%matplotlib inline\n",
    "PicketFence.run_demo()"
   ]
  },
  {
   "cell_type": "markdown",
   "metadata": {},
   "source": [
    "### 〇1.6 Planar Imaging module"
   ]
  },
  {
   "cell_type": "code",
   "execution_count": null,
   "metadata": {},
   "outputs": [],
   "source": [
    "from pylinac import LeedsTOR\n",
    "%matplotlib inline\n",
    "LeedsTOR.run_demo()"
   ]
  },
  {
   "cell_type": "markdown",
   "metadata": {},
   "source": [
    "### 〇1.7 Flatness/Symmetry module"
   ]
  },
  {
   "cell_type": "code",
   "execution_count": null,
   "metadata": {},
   "outputs": [],
   "source": [
    "from pylinac import FlatSym\n",
    "%matplotlib inline\n",
    "FlatSym.run_demo()"
   ]
  },
  {
   "cell_type": "markdown",
   "metadata": {},
   "source": [
    "## ●2. Winston Lutz"
   ]
  },
  {
   "cell_type": "markdown",
   "metadata": {},
   "source": [
    "## 〇2.1  Winston Lutz moduleのDemo"
   ]
  },
  {
   "cell_type": "code",
   "execution_count": null,
   "metadata": {
    "scrolled": true
   },
   "outputs": [],
   "source": [
    "from pylinac import WinstonLutz\n",
    "%matplotlib inline\n",
    "WinstonLutz.run_demo()"
   ]
  },
  {
   "cell_type": "markdown",
   "metadata": {},
   "source": [
    "### 〇2.2  画像を読み込み実行"
   ]
  },
  {
   "cell_type": "code",
   "execution_count": null,
   "metadata": {
    "scrolled": true
   },
   "outputs": [],
   "source": [
    "from pylinac import WinstonLutz\n",
    "%matplotlib inline\n",
    "wl = WinstonLutz.from_zip('winston_lutz.zip')\n",
    "wl.plot_summary()"
   ]
  },
  {
   "cell_type": "markdown",
   "metadata": {},
   "source": [
    "### 〇2.3  Winston-Lutzモジュールのメソッドを使う"
   ]
  },
  {
   "cell_type": "code",
   "execution_count": null,
   "metadata": {},
   "outputs": [],
   "source": [
    "wl.gantry_iso_size                  # Gantry 3D isocenter diameter"
   ]
  },
  {
   "cell_type": "code",
   "execution_count": null,
   "metadata": {
    "scrolled": true
   },
   "outputs": [],
   "source": [
    "wl.collimator_iso_size              # Collimator 2D isocenter diameter"
   ]
  },
  {
   "cell_type": "code",
   "execution_count": null,
   "metadata": {
    "scrolled": true
   },
   "outputs": [],
   "source": [
    "wl.couch_iso_size                  # Couch 2D isocenter diameter"
   ]
  },
  {
   "cell_type": "code",
   "execution_count": null,
   "metadata": {
    "scrolled": true
   },
   "outputs": [],
   "source": [
    "wl.bb_shift_vector                 # Ball-bearing(BB)をradiation isocenterへ移動させるのに必要なシフト量"
   ]
  },
  {
   "cell_type": "code",
   "execution_count": null,
   "metadata": {
    "scrolled": true
   },
   "outputs": [],
   "source": [
    "wl.cax2bb_distance('max')          # 全画像のCentral axes(CAX)とBall-bearing(BB)の距離の最大値(mm)"
   ]
  },
  {
   "cell_type": "code",
   "execution_count": null,
   "metadata": {
    "scrolled": true
   },
   "outputs": [],
   "source": [
    "wl.cax2epid_distance('max')        #全画像のEPID中心とBall-bearing(BB)の距離の最大値(mm)"
   ]
  },
  {
   "cell_type": "code",
   "execution_count": null,
   "metadata": {
    "scrolled": true
   },
   "outputs": [],
   "source": [
    "wl.publish_pdf(\"WL_summary.pdf\")   # PDF保存"
   ]
  },
  {
   "cell_type": "markdown",
   "metadata": {},
   "source": [
    "### 〇2.4  自施設のEPID画像を読み込み＆結果を表示する"
   ]
  },
  {
   "cell_type": "code",
   "execution_count": null,
   "metadata": {
    "scrolled": true
   },
   "outputs": [],
   "source": [
    "import os\n",
    "from pylinac import WinstonLutz\n",
    "%matplotlib inline\n",
    "\n",
    "my_WLdirectory = os.path.join(os.getcwd(),'01_WL_Image_HIPRAC')\n",
    "print(my_WLdirectory)\n",
    "\n",
    "wl = WinstonLutz(my_WLdirectory)\n",
    "wl.plot_summary()"
   ]
  },
  {
   "cell_type": "markdown",
   "metadata": {},
   "source": [
    "## ●3. ExacTracのEnd to End試験"
   ]
  },
  {
   "cell_type": "code",
   "execution_count": null,
   "metadata": {
    "scrolled": true
   },
   "outputs": [],
   "source": [
    "import os\n",
    "from pylinac import WinstonLutz\n",
    "%matplotlib inline\n",
    "\n",
    "my_WLdirectory = os.path.join(os.getcwd(),'02_Head_phantom')\n",
    "\n",
    "wl = WinstonLutz(my_WLdirectory)\n",
    "wl.images[0].plot()                #画像\n",
    "#wl.plot_summary()                  #画像"
   ]
  },
  {
   "cell_type": "markdown",
   "metadata": {},
   "source": [
    "## 【付録】 クラスとメソッド"
   ]
  },
  {
   "cell_type": "code",
   "execution_count": null,
   "metadata": {
    "scrolled": true
   },
   "outputs": [],
   "source": [
    "class Doubutsu:\n",
    "    def Zou(self):\n",
    "        print(\"Hana ga nagai.\")      #1行目\n",
    "\n",
    "    def Usagi(self):\n",
    "        return \"Mimi ga nagai.\"\n",
    "\n",
    "    def Kirin(self, msg):\n",
    "        print(msg + \" ga nagai.\")    #3行目\n",
    "        return \"Matsuge mo nagai.\"\n",
    "    \n",
    "doubutsu=Doubutsu()\n",
    "doubutsu.Zou()\n",
    "usagi = doubutsu.Usagi()\n",
    "print(usagi)                         #2行目\n",
    "kao=doubutsu.Kirin(\"Kubi\") \n",
    "print(kao)                          #4行目"
   ]
  },
  {
   "cell_type": "markdown",
   "metadata": {},
   "source": [
    "## ● winston_lutz.py 765行目編集用"
   ]
  },
  {
   "cell_type": "code",
   "execution_count": null,
   "metadata": {},
   "outputs": [],
   "source": [
    "        low_value, high_value = np.percentile(self.array, [5, 99.9])\n",
    "        ax = super().plot(ax=ax, show=False, clear_fig=clear_fig, clim=(low_value, high_value))"
   ]
  },
  {
   "cell_type": "code",
   "execution_count": 19,
   "metadata": {},
   "outputs": [
    {
     "name": "stdout",
     "output_type": "stream",
     "text": [
      "The watermark extension is already loaded. To reload it, use:\n",
      "  %reload_ext watermark\n",
      "CPython 3.8.3\n",
      "IPython 7.16.1\n",
      "\n",
      "os unknown\n",
      "pylinac 2.3.2\n",
      "\n",
      "compiler   : MSC v.1916 64 bit (AMD64)\n",
      "system     : Windows\n",
      "release    : 10\n",
      "machine    : AMD64\n",
      "processor  : Intel64 Family 6 Model 142 Stepping 9, GenuineIntel\n",
      "CPU cores  : 4\n",
      "interpreter: 64bit\n",
      " \n",
      "last updated: Mon Sep 07 2020 09:45:05 東京 (標準時)\n"
     ]
    }
   ],
   "source": [
    "%load_ext watermark\n",
    "\n",
    "%watermark -v -m -p os,pylinac\n",
    "\n",
    "print(\" \")\n",
    "\n",
    "%watermark -u -n -t -z"
   ]
  }
 ],
 "metadata": {
  "kernelspec": {
   "display_name": "Python 3",
   "language": "python",
   "name": "python3"
  },
  "varInspector": {
   "cols": {
    "lenName": 16,
    "lenType": 16,
    "lenVar": 40
   },
   "kernels_config": {
    "python": {
     "delete_cmd_postfix": "",
     "delete_cmd_prefix": "del ",
     "library": "var_list.py",
     "varRefreshCmd": "print(var_dic_list())"
    },
    "r": {
     "delete_cmd_postfix": ") ",
     "delete_cmd_prefix": "rm(",
     "library": "var_list.r",
     "varRefreshCmd": "cat(var_dic_list()) "
    }
   },
   "types_to_exclude": [
    "module",
    "function",
    "builtin_function_or_method",
    "instance",
    "_Feature"
   ],
   "window_display": false
  }
 },
 "nbformat": 4,
 "nbformat_minor": 2
}
